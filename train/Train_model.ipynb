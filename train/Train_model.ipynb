{
  "nbformat": 4,
  "nbformat_minor": 0,
  "metadata": {
    "colab": {
      "provenance": []
    },
    "kernelspec": {
      "name": "python3",
      "display_name": "Python 3"
    },
    "language_info": {
      "name": "python"
    }
  },
  "cells": [
    {
      "cell_type": "code",
      "source": [
        "from google.colab import drive\n",
        "drive.mount('/content/drive')"
      ],
      "metadata": {
        "id": "QEWtnGPDpMR3"
      },
      "execution_count": null,
      "outputs": []
    },
    {
      "cell_type": "code",
      "execution_count": null,
      "metadata": {
        "id": "VsUBMAmFpC2L"
      },
      "outputs": [],
      "source": [
        "import torch\n",
        "import torchvision\n",
        "import numpy as np\n",
        "import matplotlib.pyplot as plt\n",
        "import seaborn as sns\n",
        "import pandas as pd\n",
        "import os\n",
        "from sklearn.model_selection import train_test_split\n",
        "import subprocess\n",
        "import shutil\n",
        "import warnings\n",
        "from tqdm.notebook import tqdm\n",
        "from collections import Counter\n",
        "import copy\n",
        "from typing import Dict, List\n",
        "import random\n",
        "import logging\n",
        "\n",
        "warnings.filterwarnings('ignore')\n",
        "logging.basicConfig(level=logging.INFO, format='%(asctime)s %(levelname)s:%(message)s')\n",
        "\n",
        "# Variables\n",
        "IMAGE_DIR = '/content/result_dataset/'\n",
        "BATCH_SIZE = 128\n",
        "SEED = 21\n",
        "\n",
        "torch.manual_seed(SEED)\n",
        "random.seed(SEED)\n",
        "device = 'cuda' if torch.cuda.is_available() else 'cpu'\n",
        "print(f'Available device: {device}')"
      ]
    },
    {
      "cell_type": "code",
      "source": [
        "! unzip '/content/drive/MyDrive/ML projects/Image classification project/Data/result_dataset.zip' -d '/'"
      ],
      "metadata": {
        "id": "Ocsof7JfpI_M"
      },
      "execution_count": null,
      "outputs": []
    },
    {
      "cell_type": "code",
      "source": [
        "%%time\n",
        "\n",
        "data_transforms_orig = torchvision.transforms.Compose([\n",
        "        torchvision.transforms.Resize(size=(256, 256),\n",
        "                                      interpolation=torchvision.transforms.InterpolationMode.BILINEAR),\n",
        "        torchvision.transforms.CenterCrop(size=224),\n",
        "        torchvision.transforms.ToTensor(),\n",
        "        torchvision.transforms.Normalize(mean=[0.485, 0.456, 0.406],\n",
        "                                         std=[0.229, 0.224, 0.225])\n",
        "])\n",
        "\n",
        "# get original images\n",
        "datasets_orig = {\n",
        "    mode: torchvision.datasets.ImageFolder(root=IMAGE_DIR + mode, transform=data_transforms_orig)\n",
        "    for mode in ['train', 'validation', 'test']\n",
        "    }\n",
        "\n",
        "\n",
        "# get augmented images\n",
        "augmentations = torchvision.transforms.RandomChoice([\n",
        "    torchvision.transforms.Compose([\n",
        "        torchvision.transforms.RandomHorizontalFlip(p=0.5),\n",
        "        torchvision.transforms.RandomVerticalFlip(p=0.5)\n",
        "    ]),\n",
        "    torchvision.transforms.RandomRotation(degrees=(-45, 45)),\n",
        "    torchvision.transforms.RandomHorizontalFlip(p=1),\n",
        "    torchvision.transforms.GaussianBlur(kernel_size=(5, 9), sigma=(0.1, 5)),\n",
        "    torchvision.transforms.RandomPerspective(distortion_scale=0.6, p=1.0),\n",
        "    torchvision.transforms.AugMix()\n",
        "])\n",
        "\n",
        "data_transforms_aug = torchvision.transforms.Compose([\n",
        "        torchvision.transforms.Resize(size=(256, 256),\n",
        "                                      interpolation=torchvision.transforms.InterpolationMode.BILINEAR),\n",
        "        torchvision.transforms.RandomCrop(size=224),\n",
        "        augmentations,\n",
        "        torchvision.transforms.ToTensor(),\n",
        "        torchvision.transforms.Normalize(mean=[0.485, 0.456, 0.406],\n",
        "                                         std=[0.229, 0.224, 0.225])\n",
        "])\n",
        "\n",
        "datasets_aug = {\n",
        "    mode: torchvision.datasets.ImageFolder(root=IMAGE_DIR + mode, transform=data_transforms_aug)\n",
        "    for mode in ['train', 'validation']\n",
        "    }"
      ],
      "metadata": {
        "id": "HkC8UlGUpI9p"
      },
      "execution_count": null,
      "outputs": []
    },
    {
      "cell_type": "code",
      "source": [
        "def show_images(images, title):\n",
        "    fig, ax = plt.subplots(1, len(images), figsize=(15, 6))\n",
        "    for i, image in enumerate(images):\n",
        "        ax[i].imshow(np.transpose(np.clip(image, 0, 1), (1, 2, 0)))\n",
        "    fig.suptitle(title)\n",
        "    fig.tight_layout()\n",
        "    fig.subplots_adjust(top=1.55)\n",
        "    plt.show()"
      ],
      "metadata": {
        "id": "RI8eUE02pI7c"
      },
      "execution_count": null,
      "outputs": []
    },
    {
      "cell_type": "code",
      "source": [
        "count = 0\n",
        "orig_images = []\n",
        "for image, label in iter(datasets_orig['train']):\n",
        "    if count == 100:\n",
        "        break\n",
        "    orig_images.append(image)\n",
        "    count += 1\n",
        "\n",
        "count = 0\n",
        "aug_images = []\n",
        "for image, label in iter(datasets_aug['train']):\n",
        "    if count == 100:\n",
        "        break\n",
        "    aug_images.append(image)\n",
        "    count += 1"
      ],
      "metadata": {
        "id": "LGfh1L4OpI5U"
      },
      "execution_count": null,
      "outputs": []
    },
    {
      "cell_type": "code",
      "source": [
        "show_images(images=random.choices(orig_images, k=10), title='Original images')\n",
        "show_images(images=random.choices(aug_images, k=10), title='Augmented images')"
      ],
      "metadata": {
        "id": "uBWjc_inpI2g"
      },
      "execution_count": null,
      "outputs": []
    },
    {
      "cell_type": "code",
      "source": [
        "# combine original and augmented datasets\n",
        "full_datasets = {\n",
        "    mode: torch.utils.data.ConcatDataset([\n",
        "        datasets_orig[mode],\n",
        "        datasets_aug[mode]])\n",
        "    for mode in ['train', 'validation']\n",
        "}\n",
        "full_datasets['test'] = datasets_orig['test']"
      ],
      "metadata": {
        "id": "ySXCpqNQpI0R"
      },
      "execution_count": null,
      "outputs": []
    },
    {
      "cell_type": "code",
      "source": [
        "print(f\"Length of the original train dataset = {len(datasets_orig['train'])}\")\n",
        "print(f\"Length of the original validation dataset = {len(datasets_orig['validation'])}\")\n",
        "print()\n",
        "print(f\"Length of the full train dataset with augmented data = {len(full_datasets['train'])}\")\n",
        "print(f\"Length of the full validation dataset with augmented data = {len(full_datasets['validation'])}\")"
      ],
      "metadata": {
        "id": "bS01tmOBpIyK"
      },
      "execution_count": null,
      "outputs": []
    },
    {
      "cell_type": "code",
      "source": [
        "dataset_sizes = {\n",
        "    mode: len(full_datasets[mode]) for mode in ['train', 'validation', 'test']\n",
        "}\n",
        "\n",
        "classes = full_datasets['train'].datasets[0].classes"
      ],
      "metadata": {
        "id": "7X4IjbeJpIwT"
      },
      "execution_count": null,
      "outputs": []
    },
    {
      "cell_type": "code",
      "source": [
        "class_count_0 = Counter(full_datasets['validation'].datasets[0].targets)\n",
        "class_count_1 = Counter(full_datasets['validation'].datasets[1].targets)\n",
        "class_count = class_count_0 + class_count_1\n",
        "class_df = pd.DataFrame({\n",
        "    'labels': class_count.keys(),\n",
        "    'amount': class_count.values()\n",
        "})\n",
        "\n",
        "plt.figure(figsize=(15, 6))\n",
        "sns.barplot(data=class_df, x='labels', y='amount')\n",
        "plt.title('Unbalanced data')\n",
        "plt.show()"
      ],
      "metadata": {
        "id": "6PSr1ad4pIuF"
      },
      "execution_count": null,
      "outputs": []
    },
    {
      "cell_type": "code",
      "source": [
        "%%time\n",
        "\n",
        "def get_weights_for_balanced_data(dataset):\n",
        "    if type(dataset) == torch.utils.data.dataset.ConcatDataset:\n",
        "        class_count_0 = Counter(dataset.datasets[0].targets)\n",
        "        class_count_1 = Counter(dataset.datasets[1].targets)\n",
        "        class_count = class_count_0 + class_count_1\n",
        "    elif type(dataset) == torchvision.datasets.folder.ImageFolder:\n",
        "        class_count = Counter(dataset.targets)\n",
        "    else:\n",
        "        raise Exception(\"Incorrect type of dataset!\")\n",
        "\n",
        "    class_weights = {i: 1/c for i, c in class_count.items()}\n",
        "    sample_weights = [0] * len(dataset)\n",
        "    for i, (data, label) in enumerate(tqdm(dataset)):\n",
        "        class_weight = class_weights[label]\n",
        "        sample_weights[i] = class_weight\n",
        "    N = max(class_count.values()) * len(class_count) # fit to max\n",
        "    return sample_weights, N\n",
        "\n",
        "dataloaders = {}\n",
        "\n",
        "for mode in ['train', 'validation']:\n",
        "    print(f'Create dataloader for {mode} dataset')\n",
        "    sample_weights, N = get_weights_for_balanced_data(full_datasets[mode])\n",
        "    dataset_sizes[mode] = N\n",
        "    train_sampler = torch.utils.data.sampler.WeightedRandomSampler(sample_weights,\n",
        "                                                                num_samples=N,\n",
        "                                                                replacement=True)\n",
        "    dataloaders[mode] = torch.utils.data.DataLoader(full_datasets[mode],\n",
        "                                                batch_size=BATCH_SIZE,\n",
        "                                                sampler=train_sampler)\n",
        "dataloaders['test'] = torch.utils.data.DataLoader(full_datasets['test'],\n",
        "                                                batch_size=BATCH_SIZE)"
      ],
      "metadata": {
        "id": "yzqHn_mypIr3"
      },
      "execution_count": null,
      "outputs": []
    },
    {
      "cell_type": "code",
      "source": [
        "count = Counter()\n",
        "\n",
        "for data, labels in tqdm(dataloaders['validation']):\n",
        "    count += Counter(labels.tolist())"
      ],
      "metadata": {
        "id": "63gD2c1BpIph"
      },
      "execution_count": null,
      "outputs": []
    },
    {
      "cell_type": "code",
      "source": [
        "class_df = pd.DataFrame({\n",
        "    'labels': count.keys(),\n",
        "    'amount': count.values()\n",
        "})\n",
        "\n",
        "plt.figure(figsize=(15, 6))\n",
        "sns.barplot(data=class_df, x='labels', y='amount')\n",
        "plt.title('Balanced data')\n",
        "plt.show()"
      ],
      "metadata": {
        "id": "EdAmA9fxpInK"
      },
      "execution_count": null,
      "outputs": []
    },
    {
      "cell_type": "code",
      "source": [
        "print(f\"Amount of data: {dataset_sizes['train'] + dataset_sizes['test'] + dataset_sizes['validation']}\")"
      ],
      "metadata": {
        "id": "9uR-Vq3rpIlC"
      },
      "execution_count": null,
      "outputs": []
    },
    {
      "cell_type": "code",
      "source": [
        "data, labels = next(iter(dataloaders['train']))\n",
        "print(f'Data shape = {data.shape}')"
      ],
      "metadata": {
        "id": "CERZE8gwpIi8"
      },
      "execution_count": null,
      "outputs": []
    },
    {
      "cell_type": "code",
      "source": [
        "def show_image(image, title: str = None):\n",
        "  image = np.transpose(image.numpy(), (1, 2, 0))\n",
        "  mean_param = [0.485, 0.456, 0.406]\n",
        "  std_param = [0.229, 0.224, 0.225]\n",
        "  image = std_param * image + mean_param\n",
        "  image = np.clip(image, 0, 1)\n",
        "  plt.imshow(image)\n",
        "  if title != None:\n",
        "    plt.title(title)\n",
        "  plt.show()\n",
        "\n",
        "images, _ = next(iter(dataloaders['train']))\n",
        "image = torchvision.utils.make_grid(tensor=images)\n",
        "show_image(image=image, title='Images from train dataset')"
      ],
      "metadata": {
        "id": "2nNTrOXEpIg8"
      },
      "execution_count": null,
      "outputs": []
    },
    {
      "cell_type": "markdown",
      "source": [
        "## Train a model"
      ],
      "metadata": {
        "id": "gOrNLo3Rp54C"
      }
    },
    {
      "cell_type": "code",
      "source": [
        "def train_model(model, criterion, optimizer, scheduler,\n",
        "                path_for_checkpoint, start_epoch=0, num_epochs=20,\n",
        "                losses=[], train_metrics=[], val_metrics=[]):\n",
        "    best_model_weights = copy.deepcopy(model.state_dict())\n",
        "    best_accuracy = 0\n",
        "\n",
        "    for epoch in tqdm(range(start_epoch, num_epochs)):\n",
        "        print(f'Epoch {epoch + 1} / {num_epochs}')\n",
        "        for phase in ['train', 'validation']:\n",
        "            if phase == 'train':\n",
        "                model.train()\n",
        "            else:\n",
        "                model.eval()\n",
        "\n",
        "            running_loss = 0.0\n",
        "            running_corrects = 0.0\n",
        "\n",
        "            for inputs, labels in dataloaders[phase]:\n",
        "                inputs = inputs.to(device)\n",
        "                labels = labels.to(device)\n",
        "\n",
        "                optimizer.zero_grad()\n",
        "                with torch.set_grad_enabled(phase == 'train'):\n",
        "                    outputs = model(inputs)\n",
        "                    _, preds = torch.max(outputs, 1)\n",
        "                    loss = criterion(outputs, labels)\n",
        "\n",
        "                    if phase == 'train':\n",
        "                        loss.backward()\n",
        "                        optimizer.step()\n",
        "\n",
        "                running_loss += loss.item() * inputs.size(0)\n",
        "                running_corrects += torch.sum(preds == labels)\n",
        "\n",
        "            epoch_loss = running_loss / dataset_sizes[phase]\n",
        "            epoch_accuracy = running_corrects.double() / dataset_sizes[phase]\n",
        "            print(f'Epoch: {epoch + 1}, Phase: {phase} | loss = {epoch_loss} | accuracy = {epoch_accuracy}')\n",
        "\n",
        "            if phase == 'train':\n",
        "                scheduler.step()\n",
        "                losses.append(epoch_loss)\n",
        "                train_metrics.append(epoch_accuracy)\n",
        "            else:\n",
        "                val_metrics.append(epoch_accuracy)\n",
        "\n",
        "            if phase == 'validation' and epoch_accuracy > best_accuracy:\n",
        "                best_accuracy = epoch_accuracy\n",
        "                best_model_weights = copy.deepcopy(model.state_dict())\n",
        "\n",
        "        model.load_state_dict(best_model_weights)\n",
        "\n",
        "        # save checkpoint\n",
        "        print(f'Saving checkpoint of {epoch + 1} epoch')\n",
        "        torch.save({\n",
        "            'epoch': epoch,\n",
        "            'model_state_dict': model.state_dict(),\n",
        "            'optimizer_state_dict': optimizer.state_dict(),\n",
        "            'scheduler': scheduler.state_dict(),\n",
        "            'loss': epoch_loss,\n",
        "            'losses': losses,\n",
        "            'train_metrics': train_metrics,\n",
        "            'val_metrics': val_metrics\n",
        "        }, path_for_checkpoint)\n",
        "\n",
        "    return model, losses, train_metrics, val_metrics"
      ],
      "metadata": {
        "id": "qLt1-ZhXpIe2"
      },
      "execution_count": null,
      "outputs": []
    },
    {
      "cell_type": "code",
      "source": [
        "def visualize_preds_on_test(model, grid_size=(5, 5)):\n",
        "  model.to('cpu')\n",
        "  model.eval()\n",
        "  fig, ax = plt.subplots(grid_size[0], grid_size[1], figsize=(20, 20))\n",
        "  count = 0\n",
        "\n",
        "  with torch.no_grad():\n",
        "    inputs, labels = next(iter(dataloaders['test']))\n",
        "    outputs = model(inputs)\n",
        "    _, preds = torch.max(outputs, 1)\n",
        "    for i in range(grid_size[0]):\n",
        "      for j in range(grid_size[1]):\n",
        "        image = np.transpose(inputs.to('cpu').numpy()[count], (1, 2, 0))\n",
        "        mean_param = [0.485, 0.456, 0.406]\n",
        "        std_param = [0.229, 0.224, 0.225]\n",
        "        image = std_param * image + mean_param\n",
        "        image = np.clip(image, 0, 1)\n",
        "        ax[i][j].imshow(image)\n",
        "        ax[i][j].set_title(f'Pred: {classes[preds[count]]}\\nTrue: {classes[labels[count]]}')\n",
        "        count += 1\n",
        "  fig.tight_layout()\n",
        "  plt.show()"
      ],
      "metadata": {
        "id": "luNpREECpIcf"
      },
      "execution_count": null,
      "outputs": []
    },
    {
      "cell_type": "code",
      "source": [
        "model = torchvision.models.resnet50(weights='IMAGENET1K_V1')\n",
        "\n",
        "for param in model.parameters():\n",
        "  param.requires_grad = False\n",
        "\n",
        "in_features = model.fc.in_features\n",
        "\n",
        "model.fc = torch.nn.Sequential(\n",
        "    torch.nn.Linear(in_features=in_features, out_features=1000, bias=True),\n",
        "    torch.nn.ReLU(),\n",
        "    torch.nn.Dropout(0.5),\n",
        "    torch.nn.Linear(in_features=1000, out_features=len(classes))\n",
        ")\n",
        "\n",
        "model = model.to(device)\n",
        "criterion = torch.nn.CrossEntropyLoss()\n",
        "optimizer = torch.optim.SGD(params=model.fc.parameters(), lr=0.001, momentum=0.9)\n",
        "lr_scheduler = torch.optim.lr_scheduler.StepLR(optimizer=optimizer, step_size=7, gamma=0.1)\n",
        "\n",
        "NUM_EPOCHS = 15"
      ],
      "metadata": {
        "id": "OwP9pmWSpIaC"
      },
      "execution_count": null,
      "outputs": []
    },
    {
      "cell_type": "code",
      "source": [
        "path_for_checkpoint = '/content/drive/MyDrive/ML projects/Image classification project/checkpoint_state_dict.pt'\n",
        "start_epoch = 0\n",
        "epoch_loss = 0\n",
        "losses = []\n",
        "train_metrics = []\n",
        "val_metrics = []"
      ],
      "metadata": {
        "id": "ISb_MmsbpIXs"
      },
      "execution_count": null,
      "outputs": []
    },
    {
      "cell_type": "code",
      "source": [
        "%%time\n",
        "# Start training process\n",
        "model_result, losses, train_metrics, val_metrics = train_model(model=model,\n",
        "                                                               criterion=criterion,\n",
        "                                                               optimizer=optimizer,\n",
        "                                                               scheduler=lr_scheduler,\n",
        "                                                               path_for_checkpoint=path_for_checkpoint,\n",
        "                                                               start_epoch=start_epoch,\n",
        "                                                               num_epochs=NUM_EPOCHS,\n",
        "                                                               losses=losses,\n",
        "                                                               train_metrics=train_metrics,\n",
        "                                                               val_metrics=val_metrics)"
      ],
      "metadata": {
        "id": "LyXPPlWUpIVX"
      },
      "execution_count": null,
      "outputs": []
    },
    {
      "cell_type": "code",
      "source": [
        "# Resuming training process\n",
        "path_for_checkpoint = '/content/drive/MyDrive/ML projects/Image classification project/checkpoint_state_dict.pt'\n",
        "\n",
        "checkpoint = torch.load(path_for_checkpoint)\n",
        "model.load_state_dict(checkpoint['model_state_dict'])\n",
        "optimizer.load_state_dict(checkpoint['optimizer_state_dict'])\n",
        "lr_scheduler.load_state_dict(checkpoint['scheduler'])\n",
        "start_epoch = checkpoint['epoch']\n",
        "loss = checkpoint['loss']\n",
        "losses = checkpoint['losses']\n",
        "train_metrics = checkpoint['train_metrics']\n",
        "val_metrics = checkpoint['val_metrics']\n",
        "\n",
        "model_result, losses, train_metrics, val_metrics = train_model(model=model,\n",
        "                                                               criterion=criterion,\n",
        "                                                               optimizer=optimizer,\n",
        "                                                               scheduler=lr_scheduler,\n",
        "                                                               path_for_checkpoint=path_for_checkpoint,\n",
        "                                                               start_epoch=start_epoch + 1,\n",
        "                                                               num_epochs=NUM_EPOCHS,\n",
        "                                                               losses=losses,\n",
        "                                                               train_metrics=train_metrics,\n",
        "                                                               val_metrics=val_metrics)"
      ],
      "metadata": {
        "id": "XgeMias3qAgP"
      },
      "execution_count": null,
      "outputs": []
    },
    {
      "cell_type": "code",
      "source": [
        "visualize_preds_on_test(model, grid_size=(5, 5))"
      ],
      "metadata": {
        "id": "0QzydFyuqAeI"
      },
      "execution_count": null,
      "outputs": []
    },
    {
      "cell_type": "code",
      "source": [
        "def calculate_accuracy(model, test_dataloader):\n",
        "    model.to('cpu')\n",
        "    model.eval()\n",
        "    corrects = 0.0\n",
        "    with torch.no_grad():\n",
        "        for inputs, labels in test_dataloader:\n",
        "            outputs = model(inputs)\n",
        "            _, preds = torch.max(outputs, 1)\n",
        "            corrects += torch.sum(preds == labels)\n",
        "    return corrects.double() / dataset_sizes['test']"
      ],
      "metadata": {
        "id": "5bWZTMlhqSda"
      },
      "execution_count": null,
      "outputs": []
    },
    {
      "cell_type": "code",
      "source": [
        "accuracy = calculate_accuracy(model, dataloaders['test'])"
      ],
      "metadata": {
        "id": "ptwnos8EqSa9"
      },
      "execution_count": null,
      "outputs": []
    },
    {
      "cell_type": "code",
      "source": [
        "print(f'Accuracy on test set: {np.round(accuracy.item(), 2)}')"
      ],
      "metadata": {
        "id": "z3muRPpSqSYy"
      },
      "execution_count": null,
      "outputs": []
    },
    {
      "cell_type": "markdown",
      "source": [
        "## Save trained model in Google drive"
      ],
      "metadata": {
        "id": "G3tJbgP4qdO4"
      }
    },
    {
      "cell_type": "code",
      "source": [
        "model = torchvision.models.resnet50(weights='IMAGENET1K_V1')\n",
        "\n",
        "classes = ['apple', 'banana', 'bean', 'beetroot', 'bell pepper', 'bitter_gourd', 'bottle_gourd',\n",
        "           'brinjal', 'broccoli', 'cabbage', 'capsicum', 'carrot', 'cauliflower', 'chilli pepper',\n",
        "           'corn', 'cucumber', 'eggplant', 'garlic', 'ginger', 'grapes', 'jalepeno', 'kiwi', 'lemon',\n",
        "           'lettuce', 'mango', 'onion', 'orange', 'papaya', 'paprika', 'pear', 'peas', 'pineapple',\n",
        "           'pomegranate', 'potato', 'pumpkin', 'raddish', 'radish', 'soy beans', 'spinach', 'sweetcorn',\n",
        "           'sweetpotato', 'tomato', 'turnip', 'watermelon']\n",
        "\n",
        "for param in model.parameters():\n",
        "  param.requires_grad = False\n",
        "\n",
        "in_features = model.fc.in_features\n",
        "\n",
        "model.fc = torch.nn.Sequential(\n",
        "    torch.nn.Linear(in_features=in_features, out_features=1000, bias=True),\n",
        "    torch.nn.ReLU(),\n",
        "    torch.nn.Dropout(0.5),\n",
        "    torch.nn.Linear(in_features=1000, out_features=len(classes))\n",
        ")\n",
        "\n",
        "model = model.to(device)"
      ],
      "metadata": {
        "id": "o_iDI5f6qSWY"
      },
      "execution_count": null,
      "outputs": []
    },
    {
      "cell_type": "code",
      "source": [
        "path_for_checkpoint = '/content/drive/MyDrive/ML projects/Image classification project/checkpoint_state_dict.pt'\n",
        "\n",
        "checkpoint = torch.load(path_for_checkpoint)\n",
        "model.load_state_dict(checkpoint['model_state_dict'])\n",
        "\n",
        "device = 'cpu'\n",
        "model.to(device)\n",
        "\n",
        "torch.save(model, '/content/drive/MyDrive/ML projects/Image classification project/result_model.pth')"
      ],
      "metadata": {
        "id": "hpeaw78eqST6"
      },
      "execution_count": null,
      "outputs": []
    },
    {
      "cell_type": "code",
      "source": [],
      "metadata": {
        "id": "OJdodVbpqSRf"
      },
      "execution_count": null,
      "outputs": []
    },
    {
      "cell_type": "code",
      "source": [],
      "metadata": {
        "id": "X6dvnpkJqSO5"
      },
      "execution_count": null,
      "outputs": []
    }
  ]
}